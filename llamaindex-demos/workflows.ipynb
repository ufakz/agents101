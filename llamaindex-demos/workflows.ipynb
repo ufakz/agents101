{
  "cells": [
    {
      "cell_type": "markdown",
      "metadata": {
        "id": "cv6EYa23jn68"
      },
      "source": [
        "# Workflows in LlamaIndex\n",
        "\n",
        "We will install the dependencies for this unit."
      ]
    },
    {
      "cell_type": "code",
      "execution_count": 1,
      "metadata": {
        "id": "GA2WBciijn69"
      },
      "outputs": [],
      "source": [
        "!pip install llama-index llama-index-vector-stores-chroma llama-index-utils-workflow llama-index-llms-huggingface-api pyvis -U -q"
      ]
    },
    {
      "cell_type": "code",
      "execution_count": 2,
      "metadata": {
        "id": "doaGQdUMjn6-"
      },
      "outputs": [],
      "source": [
        "import os\n",
        "from dotenv import load_dotenv"
      ]
    },
    {
      "cell_type": "code",
      "execution_count": 3,
      "metadata": {},
      "outputs": [],
      "source": [
        "parent_dir = os.path.abspath(os.path.join(os.getcwd(), os.pardir))\n",
        "\n",
        "dotenv_path = os.path.join(parent_dir, \".env\")\n",
        "load_dotenv(dotenv_path)\n",
        "\n",
        "# Set the token for Hugging Face API usage\n",
        "os.environ[\"HF_TOKEN\"] = os.getenv(\"HF_TOKEN\")"
      ]
    },
    {
      "cell_type": "markdown",
      "metadata": {
        "id": "7a00YvZkjn6-"
      },
      "source": [
        "## Basic Workflow Creation\n",
        "\n",
        "We can start by creating a simple workflow. We use the `StartEvent` and `StopEvent` classes to define the start and stop of the workflow."
      ]
    },
    {
      "cell_type": "code",
      "execution_count": 4,
      "metadata": {
        "id": "HM40xaKsjn6-",
        "outputId": "238d7560-1492-4178-f404-4ef9441ae8ee"
      },
      "outputs": [
        {
          "data": {
            "text/plain": [
              "'Hello, world!'"
            ]
          },
          "execution_count": 4,
          "metadata": {},
          "output_type": "execute_result"
        }
      ],
      "source": [
        "from llama_index.core.workflow import StartEvent, StopEvent, Workflow, step\n",
        "\n",
        "\n",
        "class MyWorkflow(Workflow):\n",
        "    @step\n",
        "    async def my_step(self, ev: StartEvent) -> StopEvent:\n",
        "        # do something here\n",
        "        return StopEvent(result=\"Hello, world!\")\n",
        "\n",
        "\n",
        "w = MyWorkflow(timeout=10, verbose=False)\n",
        "result = await w.run()\n",
        "result"
      ]
    },
    {
      "cell_type": "markdown",
      "metadata": {
        "id": "2hnVrBTqjn6_"
      },
      "source": [
        "## Connecting Multiple Steps\n",
        "\n",
        "We can also create multi-step workflows. Here we pass the event information between steps. Note that we can use type hinting to specify the event type and the flow of the workflow."
      ]
    },
    {
      "cell_type": "code",
      "execution_count": 5,
      "metadata": {
        "id": "pMi5ky1zjn6_",
        "outputId": "f083043d-bee2-40c5-cbb1-fef6620778aa"
      },
      "outputs": [
        {
          "data": {
            "text/plain": [
              "'Finished processing: Step 1 complete'"
            ]
          },
          "execution_count": 5,
          "metadata": {},
          "output_type": "execute_result"
        }
      ],
      "source": [
        "from llama_index.core.workflow import Event\n",
        "\n",
        "\n",
        "class ProcessingEvent(Event):\n",
        "    intermediate_result: str\n",
        "\n",
        "\n",
        "class MultiStepWorkflow(Workflow):\n",
        "    @step\n",
        "    async def step_one(self, ev: StartEvent) -> ProcessingEvent:\n",
        "        # Process initial data\n",
        "        return ProcessingEvent(intermediate_result=\"Step 1 complete\")\n",
        "\n",
        "    @step\n",
        "    async def step_two(self, ev: ProcessingEvent) -> StopEvent:\n",
        "        # Use the intermediate result\n",
        "        final_result = f\"Finished processing: {ev.intermediate_result}\"\n",
        "        return StopEvent(result=final_result)\n",
        "\n",
        "\n",
        "w = MultiStepWorkflow(timeout=10, verbose=False)\n",
        "result = await w.run()\n",
        "result"
      ]
    },
    {
      "cell_type": "markdown",
      "metadata": {
        "id": "JvXEO9Nyjn6_"
      },
      "source": [
        "## Loops and Branches\n",
        "\n",
        "We can also use type hinting to create branches and loops. Note that we can use the `|` operator to specify that the step can return multiple types."
      ]
    },
    {
      "cell_type": "code",
      "execution_count": 6,
      "metadata": {
        "id": "1sLGpFG6jn6_",
        "outputId": "02da4fbf-b9c7-4c8b-b3c9-36bc7a307d07"
      },
      "outputs": [
        {
          "name": "stdout",
          "output_type": "stream",
          "text": [
            "Good thing happened\n"
          ]
        },
        {
          "data": {
            "text/plain": [
              "'Finished processing: First step complete.'"
            ]
          },
          "execution_count": 6,
          "metadata": {},
          "output_type": "execute_result"
        }
      ],
      "source": [
        "from llama_index.core.workflow import Event\n",
        "import random\n",
        "\n",
        "\n",
        "class ProcessingEvent(Event):\n",
        "    intermediate_result: str\n",
        "\n",
        "\n",
        "class LoopEvent(Event):\n",
        "    loop_output: str\n",
        "\n",
        "\n",
        "class MultiStepWorkflow(Workflow):\n",
        "    @step\n",
        "    async def step_one(self, ev: StartEvent) -> ProcessingEvent | LoopEvent:\n",
        "        if random.randint(0, 1) == 0:\n",
        "            print(\"Bad thing happened\")\n",
        "            return LoopEvent(loop_output=\"Back to step one.\")\n",
        "        else:\n",
        "            print(\"Good thing happened\")\n",
        "            return ProcessingEvent(intermediate_result=\"First step complete.\")\n",
        "\n",
        "    @step\n",
        "    async def step_two(self, ev: ProcessingEvent | LoopEvent) -> StopEvent:\n",
        "        # Use the intermediate result\n",
        "        final_result = f\"Finished processing: {ev.intermediate_result}\"\n",
        "        return StopEvent(result=final_result)\n",
        "\n",
        "\n",
        "w = MultiStepWorkflow(verbose=False)\n",
        "result = await w.run()\n",
        "result"
      ]
    },
    {
      "cell_type": "markdown",
      "metadata": {
        "id": "n-gWwYmRjn7A"
      },
      "source": [
        "## Drawing Workflows\n",
        "\n",
        "We can also draw workflows using the `draw_all_possible_flows` function.\n"
      ]
    },
    {
      "cell_type": "code",
      "execution_count": 7,
      "metadata": {
        "id": "yD5_XJ2Njn7A",
        "outputId": "a52acae2-fbce-4e47-cc07-6b3c26ed0e8e"
      },
      "outputs": [
        {
          "name": "stdout",
          "output_type": "stream",
          "text": [
            "workflow_all_flows.html\n"
          ]
        }
      ],
      "source": [
        "from llama_index.utils.workflow import draw_all_possible_flows\n",
        "\n",
        "draw_all_possible_flows(w)"
      ]
    },
    {
      "cell_type": "markdown",
      "metadata": {
        "id": "AqHWIw9ijn7A"
      },
      "source": [
        "![drawing](https://huggingface.co/datasets/agents-course/course-images/resolve/main/en/unit2/llama-index/workflow-draw.png)"
      ]
    },
    {
      "cell_type": "markdown",
      "metadata": {
        "id": "wGJ2vt-Zjn7A"
      },
      "source": [
        "### State Management\n",
        "\n",
        "Instead of passing the event information between steps, we can use the `Context` type hint to pass information between steps.\n",
        "This might be useful for long running workflows, where you want to store information between steps."
      ]
    },
    {
      "cell_type": "code",
      "execution_count": 8,
      "metadata": {
        "id": "iQExQ7S8jn7A",
        "outputId": "55c0db04-3e11-495e-8712-662106fb7119"
      },
      "outputs": [
        {
          "name": "stdout",
          "output_type": "stream",
          "text": [
            "Query: What is the capital of France?\n"
          ]
        },
        {
          "data": {
            "text/plain": [
              "'Finished processing: Step 1 complete'"
            ]
          },
          "execution_count": 8,
          "metadata": {},
          "output_type": "execute_result"
        }
      ],
      "source": [
        "from llama_index.core.workflow import Event, Context\n",
        "from llama_index.core.agent.workflow import ReActAgent\n",
        "\n",
        "\n",
        "class ProcessingEvent(Event):\n",
        "    intermediate_result: str\n",
        "\n",
        "\n",
        "class MultiStepWorkflow(Workflow):\n",
        "    @step\n",
        "    async def step_one(self, ev: StartEvent, ctx: Context) -> ProcessingEvent:\n",
        "        # Process initial data\n",
        "        await ctx.set(\"query\", \"What is the capital of France?\")\n",
        "        return ProcessingEvent(intermediate_result=\"Step 1 complete\")\n",
        "\n",
        "    @step\n",
        "    async def step_two(self, ev: ProcessingEvent, ctx: Context) -> StopEvent:\n",
        "        # Use the intermediate result\n",
        "        query = await ctx.get(\"query\")\n",
        "        print(f\"Query: {query}\")\n",
        "        final_result = f\"Finished processing: {ev.intermediate_result}\"\n",
        "        return StopEvent(result=final_result)\n",
        "\n",
        "\n",
        "w = MultiStepWorkflow(timeout=10, verbose=False)\n",
        "result = await w.run()\n",
        "result"
      ]
    },
    {
      "cell_type": "markdown",
      "metadata": {
        "id": "moolTqaqjn7A"
      },
      "source": [
        "## Multi-Agent Workflows\n",
        "\n",
        "We can also create multi-agent workflows. Here we define two agents, one that multiplies two integers and one that adds two integers."
      ]
    },
    {
      "cell_type": "code",
      "execution_count": 10,
      "metadata": {
        "id": "DeFWQ4qbjn7A",
        "outputId": "e9080dcb-6a46-40fe-c79c-e49b2ccac991"
      },
      "outputs": [
        {
          "data": {
            "text/plain": [
              "AgentOutput(response=ChatMessage(role=<MessageRole.ASSISTANT: 'assistant'>, additional_kwargs={}, blocks=[TextBlock(block_type='text', text='The sum of 5 and 3 is 8.')]), tool_calls=[ToolCallResult(tool_name='handoff', tool_kwargs={'to_agent': 'add_agent', 'reason': 'The user is asking to add two integers, which is a task for the add_agent.'}, tool_id='f63610a0-b858-4296-ac51-aad4639299e0', tool_output=ToolOutput(content='Agent add_agent is now handling the request due to the following reason: The user is asking to add two integers, which is a task for the add_agent..\\nPlease continue with the current request.', tool_name='handoff', raw_input={'args': (), 'kwargs': {'to_agent': 'add_agent', 'reason': 'The user is asking to add two integers, which is a task for the add_agent.'}}, raw_output='Agent add_agent is now handling the request due to the following reason: The user is asking to add two integers, which is a task for the add_agent..\\nPlease continue with the current request.', is_error=False), return_direct=True), ToolCallResult(tool_name='add', tool_kwargs={'a': 5, 'b': 3}, tool_id='8a1a28a4-887e-435b-8c36-01850e50de11', tool_output=ToolOutput(content='8', tool_name='add', raw_input={'args': (), 'kwargs': {'a': 5, 'b': 3}}, raw_output=8, is_error=False), return_direct=False)], raw={'id': 'chatcmpl-BQJx6wMLzS2ZFTuMl3bUKz8aTKwMf', 'choices': [{'delta': {'content': None, 'function_call': None, 'refusal': None, 'role': None, 'tool_calls': None}, 'finish_reason': 'stop', 'index': 0, 'logprobs': None}], 'created': 1745612924, 'model': 'gpt-4o-2024-08-06', 'object': 'chat.completion.chunk', 'service_tier': 'default', 'system_fingerprint': 'fp_f5bdcc3276', 'usage': None}, current_agent_name='add_agent')"
            ]
          },
          "execution_count": 10,
          "metadata": {},
          "output_type": "execute_result"
        }
      ],
      "source": [
        "from llama_index.llms.huggingface_api import HuggingFaceInferenceAPI\n",
        "from llama_index.core.agent.workflow import AgentWorkflow\n",
        "from llama_index.llms.openai import OpenAI\n",
        "\n",
        "# Define some tools\n",
        "def add(a: int, b: int) -> int:\n",
        "    \"\"\"Add two numbers.\"\"\"\n",
        "    return a + b\n",
        "\n",
        "def multiply(a: int, b: int) -> int:\n",
        "    \"\"\"Multiply two numbers.\"\"\"\n",
        "    return a * b\n",
        "\n",
        "llm  = OpenAI(\n",
        "            model=\"gpt-4o\",\n",
        "            system_prompt=\"\"\"You are a helpful assistant that can perform calculations and search through documents to answer questions.\"\"\",\n",
        "        )\n",
        "\n",
        "# we can pass functions directly without FunctionTool -- the fn/docstring are parsed for the name/description\n",
        "multiply_agent = ReActAgent(\n",
        "    name=\"multiply_agent\",\n",
        "    description=\"Is able to multiply two integers\",\n",
        "    system_prompt=\"A helpful assistant that can use a tool to multiply numbers.\",\n",
        "    tools=[multiply],\n",
        "    llm=llm,\n",
        ")\n",
        "\n",
        "addition_agent = ReActAgent(\n",
        "    name=\"add_agent\",\n",
        "    description=\"Is able to add two integers\",\n",
        "    system_prompt=\"A helpful assistant that can use a tool to add numbers.\",\n",
        "    tools=[add],\n",
        "    llm=llm,\n",
        ")\n",
        "\n",
        "# Create the workflow\n",
        "workflow = AgentWorkflow(\n",
        "    agents=[multiply_agent, addition_agent],\n",
        "    root_agent=\"multiply_agent\"\n",
        ")\n",
        "\n",
        "# Run the system\n",
        "response = await workflow.run(user_msg=\"Can you add 5 and 3?\")\n",
        "response"
      ]
    }
  ],
  "metadata": {
    "colab": {
      "provenance": []
    },
    "kernelspec": {
      "display_name": "cv-utu",
      "language": "python",
      "name": "python3"
    },
    "language_info": {
      "codemirror_mode": {
        "name": "ipython",
        "version": 3
      },
      "file_extension": ".py",
      "mimetype": "text/x-python",
      "name": "python",
      "nbconvert_exporter": "python",
      "pygments_lexer": "ipython3",
      "version": "3.10.13"
    }
  },
  "nbformat": 4,
  "nbformat_minor": 0
}
