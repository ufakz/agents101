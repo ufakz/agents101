{
  "cells": [
    {
      "cell_type": "markdown",
      "metadata": {
        "id": "lgG9g_6rpvzp"
      },
      "source": [
        "# Components in LlamaIndex"
      ]
    },
    {
      "cell_type": "code",
      "execution_count": 1,
      "metadata": {
        "id": "dKCeAxoXpvzr"
      },
      "outputs": [],
      "source": [
        "!pip install llama-index datasets llama-index-callbacks-arize-phoenix llama-index-vector-stores-chroma llama-index-llms-huggingface-api -U -q"
      ]
    },
    {
      "cell_type": "markdown",
      "metadata": {
        "id": "5y3Yq7c7pvzr"
      },
      "source": [
        "And, let's log in to Hugging Face to use serverless Inference APIs."
      ]
    },
    {
      "cell_type": "code",
      "execution_count": 2,
      "metadata": {
        "id": "qA5Q6VVOpvzr"
      },
      "outputs": [],
      "source": [
        "import os\n",
        "from dotenv import load_dotenv"
      ]
    },
    {
      "cell_type": "code",
      "execution_count": 3,
      "metadata": {},
      "outputs": [],
      "source": [
        "parent_dir = os.path.abspath(os.path.join(os.getcwd(), os.pardir))\n",
        "\n",
        "dotenv_path = os.path.join(parent_dir, \".env\")\n",
        "load_dotenv(dotenv_path)\n",
        "\n",
        "# Set the token for Hugging Face API usage\n",
        "os.environ[\"HF_TOKEN\"] = os.getenv(\"HF_TOKEN\")"
      ]
    },
    {
      "cell_type": "markdown",
      "metadata": {
        "id": "YVYCLCn1pvzs"
      },
      "source": [
        "## Create a `QueryEngine` for retrieval augmented generation\n",
        "\n",
        "### Setting up the persona database\n",
        "\n",
        "We will be using personas from the [dvilasuero/finepersonas-v0.1-tiny dataset](https://huggingface.co/datasets/dvilasuero/finepersonas-v0.1-tiny). This dataset contains 5K personas that will be attending the party!\n",
        "\n",
        "Let's load the dataset and store it as files in the `data` directory"
      ]
    },
    {
      "cell_type": "code",
      "execution_count": 4,
      "metadata": {
        "id": "j5H3QEkVpvzs"
      },
      "outputs": [],
      "source": [
        "from datasets import load_dataset\n",
        "from pathlib import Path\n",
        "\n",
        "dataset = load_dataset(path=\"dvilasuero/finepersonas-v0.1-tiny\", split=\"train\")\n",
        "\n",
        "Path(\"data\").mkdir(parents=True, exist_ok=True)\n",
        "for i, persona in enumerate(dataset):\n",
        "    with open(Path(\"data\") / f\"persona_{i}.txt\", \"w\") as f:\n",
        "        f.write(persona[\"persona\"])"
      ]
    },
    {
      "cell_type": "markdown",
      "metadata": {
        "id": "8JCb05Qwpvzs"
      },
      "source": [
        "Awesome, now we have a local directory with all the personas that will be attending the party, we can load and index!\n",
        "\n",
        "### Loading and embedding persona documents\n",
        "\n",
        "We will use the `SimpleDirectoryReader` to load the persona descriptions from the `data` directory. This will return a list of `Document` objects."
      ]
    },
    {
      "cell_type": "code",
      "execution_count": 5,
      "metadata": {
        "id": "1FvnxFe1pvzs",
        "outputId": "d40421d1-dc7e-42f9-f84a-5b7477f34143"
      },
      "outputs": [
        {
          "data": {
            "text/plain": [
              "5000"
            ]
          },
          "execution_count": 5,
          "metadata": {},
          "output_type": "execute_result"
        }
      ],
      "source": [
        "from llama_index.core import SimpleDirectoryReader\n",
        "\n",
        "reader = SimpleDirectoryReader(input_dir=\"data\")\n",
        "documents = reader.load_data()\n",
        "len(documents)"
      ]
    },
    {
      "cell_type": "markdown",
      "metadata": {
        "id": "MEsJzrMqpvzt"
      },
      "source": [
        "Now we have a list of `Document` objects, we can use the `IngestionPipeline` to create nodes from the documents and prepare them for the `QueryEngine`. We will use the `SentenceSplitter` to split the documents into smaller chunks and the `HuggingFaceInferenceAPIEmbedding` to embed the chunks."
      ]
    },
    {
      "cell_type": "code",
      "execution_count": 6,
      "metadata": {},
      "outputs": [],
      "source": [
        "!pip install llama-index-embeddings-huggingface -U -q"
      ]
    },
    {
      "cell_type": "code",
      "execution_count": 7,
      "metadata": {
        "id": "KY9vVqzXpvzt",
        "outputId": "6d67e5bc-c1ec-4c71-d61c-ef1a2a67f712"
      },
      "outputs": [],
      "source": [
        "from llama_index.embeddings.huggingface import HuggingFaceEmbedding\n",
        "from llama_index.core.node_parser import SentenceSplitter\n",
        "from llama_index.core.ingestion import IngestionPipeline\n",
        "\n",
        "# create the pipeline with transformations\n",
        "pipeline = IngestionPipeline(\n",
        "    transformations=[\n",
        "        SentenceSplitter(),\n",
        "        HuggingFaceEmbedding(model_name=\"BAAI/bge-small-en-v1.5\"),\n",
        "    ]\n",
        ")\n",
        "\n",
        "# run the pipeline sync or async\n",
        "nodes = await pipeline.arun(documents=documents[:10])"
      ]
    },
    {
      "cell_type": "markdown",
      "metadata": {
        "id": "0jhvnCSXpvzt"
      },
      "source": [
        "As, you can see, we have created a list of `Node` objects, which are just chunks of text from the original documents. Let's explore how we can add these nodes to a vector store.\n",
        "\n",
        "### Storing and indexing documents\n",
        "\n",
        "Since we are using an ingestion pipeline, we can directly attach a vector store to the pipeline to populate it.\n",
        "In this case, we will use `Chroma` to store our documents.\n",
        "Let's run the pipeline again with the vector store attached.\n",
        "The `IngestionPipeline` caches the operations so this should be fast!"
      ]
    },
    {
      "cell_type": "code",
      "execution_count": 11,
      "metadata": {
        "id": "A_9S82ESpvzt",
        "outputId": "6b1a508c-b965-49e9-e8fd-30aaff81d00d"
      },
      "outputs": [
        {
          "data": {
            "text/plain": [
              "10"
            ]
          },
          "execution_count": 11,
          "metadata": {},
          "output_type": "execute_result"
        }
      ],
      "source": [
        "import chromadb\n",
        "from llama_index.vector_stores.chroma import ChromaVectorStore\n",
        "\n",
        "db = chromadb.PersistentClient(path=\"./alfred_chroma_db\")\n",
        "chroma_collection = db.get_or_create_collection(name=\"alfred\")\n",
        "vector_store = ChromaVectorStore(chroma_collection=chroma_collection)\n",
        "\n",
        "pipeline = IngestionPipeline(\n",
        "    transformations=[\n",
        "        SentenceSplitter(),\n",
        "        HuggingFaceEmbedding(model_name=\"BAAI/bge-small-en-v1.5\"),\n",
        "    ],\n",
        "    vector_store=vector_store,\n",
        ")\n",
        "\n",
        "nodes = await pipeline.arun(documents=documents[:10])\n",
        "len(nodes)"
      ]
    },
    {
      "cell_type": "markdown",
      "metadata": {
        "id": "g_58B0qZpvzt"
      },
      "source": [
        "We can create a `VectorStoreIndex` from the vector store and use it to query the documents by passing the vector store and embedding model to the `from_vector_store()` method."
      ]
    },
    {
      "cell_type": "code",
      "execution_count": 12,
      "metadata": {
        "id": "5ha4Nxe6pvzt"
      },
      "outputs": [],
      "source": [
        "from llama_index.core import VectorStoreIndex\n",
        "from llama_index.embeddings.huggingface import HuggingFaceEmbedding\n",
        "\n",
        "embed_model = HuggingFaceEmbedding(model_name=\"BAAI/bge-small-en-v1.5\")\n",
        "index = VectorStoreIndex.from_vector_store(\n",
        "    vector_store=vector_store, embed_model=embed_model\n",
        ")"
      ]
    },
    {
      "cell_type": "markdown",
      "metadata": {
        "id": "vpTfRBqRpvzt"
      },
      "source": [
        "We don't need to worry about persisting the index to disk, as it is automatically saved within the `ChromaVectorStore` object and the passed directory path.\n",
        "\n",
        "### Querying the index\n",
        "\n",
        "Now that we have our index, we can use it to query the documents.\n",
        "Let's create a `QueryEngine` from the index and use it to query the documents using a specific response mode.\n"
      ]
    },
    {
      "cell_type": "code",
      "execution_count": 13,
      "metadata": {
        "id": "lscLOcBQpvzt",
        "outputId": "7a7b6c76-57f2-4e33-85b8-6fdcd28b9ad7"
      },
      "outputs": [
        {
          "data": {
            "text/plain": [
              "Response(response='An anthropologist or cultural expert with a deep dive into Cypriot culture, history, and society, having lived and worked extensively in Cyprus to understand the local people, customs, and way of life.', source_nodes=[NodeWithScore(node=TextNode(id_='7cecaef6-45ea-4d37-82f9-1e51411fb012', embedding=None, metadata={'file_path': '/Users/farouq/projects/agents101/llamaindex-demos/data/persona_1.txt', 'file_name': 'persona_1.txt', 'file_type': 'text/plain', 'file_size': 266, 'creation_date': '2025-04-06', 'last_modified_date': '2025-04-06'}, excluded_embed_metadata_keys=['file_name', 'file_type', 'file_size', 'creation_date', 'last_modified_date', 'last_accessed_date'], excluded_llm_metadata_keys=['file_name', 'file_type', 'file_size', 'creation_date', 'last_modified_date', 'last_accessed_date'], relationships={<NodeRelationship.SOURCE: '1'>: RelatedNodeInfo(node_id='26864cf8-c210-4f43-b913-b34a6641dc33', node_type='4', metadata={'file_path': '/Users/farouq/projects/agents101/llamaindex-demos/data/persona_1.txt', 'file_name': 'persona_1.txt', 'file_type': 'text/plain', 'file_size': 266, 'creation_date': '2025-04-06', 'last_modified_date': '2025-04-06'}, hash='4b9dc209591eabaab8ddb5d139aa2b0fa3a82c3d4b7f3e5f572268c3583fd7cd')}, metadata_template='{key}: {value}', metadata_separator='\\n', text='An anthropologist or a cultural expert interested in the intricacies of Cypriot culture, history, and society, particularly someone who has spent considerable time researching and living in Cyprus to gain a deep understanding of its people, customs, and way of life.', mimetype='text/plain', start_char_idx=0, end_char_idx=266, metadata_seperator='\\n', text_template='{metadata_str}\\n\\n{content}'), score=0.5420684571342101), NodeWithScore(node=TextNode(id_='89c969a7-d36d-408d-8eac-26b1f53bf7b4', embedding=None, metadata={'file_path': '/Users/farouq/projects/agents101/llamaindex-demos/data/persona_1004.txt', 'file_name': 'persona_1004.txt', 'file_type': 'text/plain', 'file_size': 160, 'creation_date': '2025-04-06', 'last_modified_date': '2025-04-06'}, excluded_embed_metadata_keys=['file_name', 'file_type', 'file_size', 'creation_date', 'last_modified_date', 'last_accessed_date'], excluded_llm_metadata_keys=['file_name', 'file_type', 'file_size', 'creation_date', 'last_modified_date', 'last_accessed_date'], relationships={<NodeRelationship.SOURCE: '1'>: RelatedNodeInfo(node_id='6dc1ca29-6bbb-480d-a72f-01bff0bdd57d', node_type='4', metadata={'file_path': '/Users/farouq/projects/agents101/llamaindex-demos/data/persona_1004.txt', 'file_name': 'persona_1004.txt', 'file_type': 'text/plain', 'file_size': 160, 'creation_date': '2025-04-06', 'last_modified_date': '2025-04-06'}, hash='1c90706a269a355f1a3097f89f578eab80f369ec11dafbe5159bbce30ecfadee')}, metadata_template='{key}: {value}', metadata_separator='\\n', text='An environmental historian or urban planner focused on ecological conservation and sustainability, likely working in local government or a related organization.', mimetype='text/plain', start_char_idx=0, end_char_idx=160, metadata_seperator='\\n', text_template='{metadata_str}\\n\\n{content}'), score=0.500918932795413)], metadata={'7cecaef6-45ea-4d37-82f9-1e51411fb012': {'file_path': '/Users/farouq/projects/agents101/llamaindex-demos/data/persona_1.txt', 'file_name': 'persona_1.txt', 'file_type': 'text/plain', 'file_size': 266, 'creation_date': '2025-04-06', 'last_modified_date': '2025-04-06'}, '89c969a7-d36d-408d-8eac-26b1f53bf7b4': {'file_path': '/Users/farouq/projects/agents101/llamaindex-demos/data/persona_1004.txt', 'file_name': 'persona_1004.txt', 'file_type': 'text/plain', 'file_size': 160, 'creation_date': '2025-04-06', 'last_modified_date': '2025-04-06'}})"
            ]
          },
          "execution_count": 13,
          "metadata": {},
          "output_type": "execute_result"
        }
      ],
      "source": [
        "from llama_index.llms.huggingface_api import HuggingFaceInferenceAPI\n",
        "import nest_asyncio\n",
        "\n",
        "nest_asyncio.apply()  # This is needed to run the query engine\n",
        "llm = HuggingFaceInferenceAPI(model_name=\"Qwen/Qwen2.5-Coder-32B-Instruct\")\n",
        "query_engine = index.as_query_engine(\n",
        "    llm=llm,\n",
        "    response_mode=\"tree_summarize\",\n",
        ")\n",
        "response = query_engine.query(\n",
        "    \"Respond using a persona that describes author and travel experiences?\"\n",
        ")\n",
        "response"
      ]
    },
    {
      "cell_type": "markdown",
      "metadata": {
        "id": "Di4a2BOxpvzt"
      },
      "source": [
        "## Evaluation and observability\n",
        "\n",
        "LlamaIndex provides **built-in evaluation tools to assess response quality.**\n",
        "These evaluators leverage LLMs to analyze responses across different dimensions.\n",
        "We can now check if the query is faithful to the original persona."
      ]
    },
    {
      "cell_type": "code",
      "execution_count": 14,
      "metadata": {
        "id": "IVDDjhE9pvzt",
        "outputId": "22eed6da-9ec3-4cbd-bf34-9967cab2b650"
      },
      "outputs": [
        {
          "data": {
            "text/plain": [
              "True"
            ]
          },
          "execution_count": 14,
          "metadata": {},
          "output_type": "execute_result"
        }
      ],
      "source": [
        "from llama_index.core.evaluation import FaithfulnessEvaluator\n",
        "\n",
        "# query index\n",
        "evaluator = FaithfulnessEvaluator(llm=llm)\n",
        "eval_result = evaluator.evaluate_response(response=response)\n",
        "eval_result.passing"
      ]
    }
  ],
  "metadata": {
    "colab": {
      "provenance": []
    },
    "kernelspec": {
      "display_name": "cv-utu",
      "language": "python",
      "name": "python3"
    },
    "language_info": {
      "codemirror_mode": {
        "name": "ipython",
        "version": 3
      },
      "file_extension": ".py",
      "mimetype": "text/x-python",
      "name": "python",
      "nbconvert_exporter": "python",
      "pygments_lexer": "ipython3",
      "version": "3.10.13"
    }
  },
  "nbformat": 4,
  "nbformat_minor": 0
}
