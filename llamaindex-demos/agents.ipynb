{
  "cells": [
    {
      "cell_type": "markdown",
      "metadata": {
        "id": "HKU6NTepWuD7",
        "vscode": {
          "languageId": "plaintext"
        }
      },
      "source": [
        "# Agents in LlamaIndex"
      ]
    },
    {
      "cell_type": "code",
      "execution_count": 1,
      "metadata": {
        "id": "OLUOe76mWuD8"
      },
      "outputs": [],
      "source": [
        "!pip install llama-index datasets llama-index-callbacks-arize-phoenix llama-index-vector-stores-chroma llama-index-llms-huggingface-api -U -q"
      ]
    },
    {
      "cell_type": "code",
      "execution_count": 2,
      "metadata": {
        "id": "4dCGeqA6WuD9"
      },
      "outputs": [],
      "source": [
        "import os\n",
        "from dotenv import load_dotenv"
      ]
    },
    {
      "cell_type": "code",
      "execution_count": 3,
      "metadata": {},
      "outputs": [],
      "source": [
        "parent_dir = os.path.abspath(os.path.join(os.getcwd(), os.pardir))\n",
        "\n",
        "dotenv_path = os.path.join(parent_dir, \".env\")\n",
        "load_dotenv(dotenv_path)\n",
        "\n",
        "# Set the token for Hugging Face API usage\n",
        "os.environ[\"HF_TOKEN\"] = os.getenv(\"HF_TOKEN\")"
      ]
    },
    {
      "cell_type": "markdown",
      "metadata": {
        "id": "eXPrFavLWuD9",
        "vscode": {
          "languageId": "plaintext"
        }
      },
      "source": [
        "## Initialising agents\n",
        "\n",
        "Let's start by initialising an agent. We will use the basic `AgentWorkflow` class to create an agent."
      ]
    },
    {
      "cell_type": "code",
      "execution_count": 4,
      "metadata": {
        "id": "nFag6oHDWuD-"
      },
      "outputs": [],
      "source": [
        "from llama_index.llms.huggingface_api import HuggingFaceInferenceAPI\n",
        "from llama_index.core.agent.workflow import AgentWorkflow, ToolCallResult, AgentStream\n",
        "\n",
        "\n",
        "def add(a: int, b: int) -> int:\n",
        "    \"\"\"Add two numbers\"\"\"\n",
        "    return a + b\n",
        "\n",
        "\n",
        "def subtract(a: int, b: int) -> int:\n",
        "    \"\"\"Subtract two numbers\"\"\"\n",
        "    return a - b\n",
        "\n",
        "\n",
        "def multiply(a: int, b: int) -> int:\n",
        "    \"\"\"Multiply two numbers\"\"\"\n",
        "    return a * b\n",
        "\n",
        "\n",
        "def divide(a: int, b: int) -> int:\n",
        "    \"\"\"Divide two numbers\"\"\"\n",
        "    return a / b\n",
        "\n",
        "\n",
        "llm = HuggingFaceInferenceAPI(model_name=\"Qwen/Qwen2.5-Coder-32B-Instruct\")\n",
        "\n",
        "agent = AgentWorkflow.from_tools_or_functions(\n",
        "    tools_or_functions=[subtract, multiply, divide, add],\n",
        "    llm=llm,\n",
        "    system_prompt=\"You are a math agent that can add, subtract, multiply, and divide numbers using provided tools.\",\n",
        ")"
      ]
    },
    {
      "cell_type": "markdown",
      "metadata": {
        "id": "Tw_KYAMxWuD-"
      },
      "source": [
        "Then, we can run the agent and get the response and reasoning behind the tool calls."
      ]
    },
    {
      "cell_type": "code",
      "execution_count": 5,
      "metadata": {
        "id": "Pqaz3w0rWuD-"
      },
      "outputs": [
        {
          "name": "stdout",
          "output_type": "stream",
          "text": [
            "Thought: The current language of the user is: English. I need to use a tool to help me answer the question.\n",
            "Action: add\n",
            "Action Input: {\"a\": 2, \"b\": 2}\n",
            "Called tool:  add {'a': 2, 'b': 2} => 4\n",
            "Thought: I now have the result of 2 + 2, which is 4. I need to multiply this result by 2 to get the final answer.\n",
            "Action: multiply\n",
            "Action Input: {'a': 4, 'b': 2}\n",
            "Called tool:  multiply {'a': 4, 'b': 2} => 8\n",
            "Thought: I can answer without using any more tools. I'll use the user's language to answer\n",
            "Answer: (2 + 2) * 2 equals 8."
          ]
        },
        {
          "data": {
            "text/plain": [
              "AgentOutput(response=ChatMessage(role=<MessageRole.ASSISTANT: 'assistant'>, additional_kwargs={}, blocks=[TextBlock(block_type='text', text='(2 + 2) * 2 equals 8.')]), tool_calls=[ToolCallResult(tool_name='add', tool_kwargs={'a': 2, 'b': 2}, tool_id='386acf0b-42ec-43b7-a031-9aaab810ce08', tool_output=ToolOutput(content='4', tool_name='add', raw_input={'args': (), 'kwargs': {'a': 2, 'b': 2}}, raw_output=4, is_error=False), return_direct=False), ToolCallResult(tool_name='multiply', tool_kwargs={'a': 4, 'b': 2}, tool_id='0a262f68-c31e-4601-8f82-36c1643359bd', tool_output=ToolOutput(content='8', tool_name='multiply', raw_input={'args': (), 'kwargs': {'a': 4, 'b': 2}}, raw_output=8, is_error=False), return_direct=False)], raw=ChatCompletionStreamOutput(choices=[ChatCompletionStreamOutputChoice(delta=ChatCompletionStreamOutputDelta(role='assistant', content='.', tool_calls=None), index=0, finish_reason=None, logprobs=None)], created=1744250159, id='', model='Qwen/Qwen2.5-Coder-32B-Instruct', system_fingerprint='3.2.1-sha-4d28897', usage=None, object='chat.completion.chunk'), current_agent_name='Agent')"
            ]
          },
          "execution_count": 5,
          "metadata": {},
          "output_type": "execute_result"
        }
      ],
      "source": [
        "handler = agent.run(\"What is (2 + 2) * 2?\")\n",
        "async for ev in handler.stream_events():\n",
        "    if isinstance(ev, ToolCallResult):\n",
        "        print(\"\")\n",
        "        print(\"Called tool: \", ev.tool_name, ev.tool_kwargs, \"=>\", ev.tool_output)\n",
        "    elif isinstance(ev, AgentStream):  # showing the thought process\n",
        "        print(ev.delta, end=\"\", flush=True)\n",
        "\n",
        "resp = await handler\n",
        "resp"
      ]
    },
    {
      "cell_type": "markdown",
      "metadata": {
        "id": "L8MM252xWuD_"
      },
      "source": [
        "In a similar fashion, we can pass state and context to the agent.\n"
      ]
    },
    {
      "cell_type": "code",
      "execution_count": 6,
      "metadata": {
        "id": "ovXWaMTmWuD_",
        "outputId": "d16b33b8-08cd-4b90-9267-f5a3621c82b7"
      },
      "outputs": [
        {
          "data": {
            "text/plain": [
              "AgentOutput(response=ChatMessage(role=<MessageRole.ASSISTANT: 'assistant'>, additional_kwargs={}, blocks=[TextBlock(block_type='text', text='Your name is Bob.')]), tool_calls=[], raw=ChatCompletionStreamOutput(choices=[ChatCompletionStreamOutputChoice(delta=ChatCompletionStreamOutputDelta(role='assistant', content='.', tool_calls=None), index=0, finish_reason=None, logprobs=None)], created=1744250187, id='', model='Qwen/Qwen2.5-Coder-32B-Instruct', system_fingerprint='3.2.1-sha-4d28897', usage=None, object='chat.completion.chunk'), current_agent_name='Agent')"
            ]
          },
          "execution_count": 6,
          "metadata": {},
          "output_type": "execute_result"
        }
      ],
      "source": [
        "from llama_index.core.workflow import Context\n",
        "\n",
        "ctx = Context(agent)\n",
        "\n",
        "response = await agent.run(\"My name is Bob.\", ctx=ctx)\n",
        "response = await agent.run(\"What was my name again?\", ctx=ctx)\n",
        "response"
      ]
    },
    {
      "cell_type": "markdown",
      "metadata": {
        "id": "mhUBM318WuD_"
      },
      "source": [
        "## Creating RAG Agents with QueryEngineTools\n",
        "\n",
        "Let's now re-use the `QueryEngine` we defined in the [previous unit on tools](/tools.ipynb) and convert it into a `QueryEngineTool`. We will pass it to the `AgentWorkflow` class to create a RAG agent."
      ]
    },
    {
      "cell_type": "code",
      "execution_count": 7,
      "metadata": {
        "id": "CfQ1juhuWuEA"
      },
      "outputs": [],
      "source": [
        "import chromadb\n",
        "\n",
        "from llama_index.core import VectorStoreIndex\n",
        "from llama_index.llms.huggingface_api import HuggingFaceInferenceAPI\n",
        "from llama_index.embeddings.huggingface import HuggingFaceEmbedding\n",
        "from llama_index.core.tools import QueryEngineTool\n",
        "from llama_index.vector_stores.chroma import ChromaVectorStore\n",
        "\n",
        "# Create a vector store\n",
        "db = chromadb.PersistentClient(path=\"./alfred_chroma_db\")\n",
        "chroma_collection = db.get_or_create_collection(\"alfred\")\n",
        "vector_store = ChromaVectorStore(chroma_collection=chroma_collection)\n",
        "\n",
        "# Create a query engine\n",
        "embed_model = HuggingFaceEmbedding(model_name=\"BAAI/bge-small-en-v1.5\")\n",
        "llm = HuggingFaceInferenceAPI(model_name=\"Qwen/Qwen2.5-Coder-32B-Instruct\")\n",
        "index = VectorStoreIndex.from_vector_store(\n",
        "    vector_store=vector_store, embed_model=embed_model\n",
        ")\n",
        "query_engine = index.as_query_engine(llm=llm)\n",
        "query_engine_tool = QueryEngineTool.from_defaults(\n",
        "    query_engine=query_engine,\n",
        "    name=\"personas\",\n",
        "    description=\"descriptions for various types of personas\",\n",
        "    return_direct=False,\n",
        ")\n",
        "\n",
        "# Create a RAG agent\n",
        "query_engine_agent = AgentWorkflow.from_tools_or_functions(\n",
        "    tools_or_functions=[query_engine_tool],\n",
        "    llm=llm,\n",
        "    system_prompt=\"You are a helpful assistant that has access to a database containing persona descriptions. \",\n",
        ")"
      ]
    },
    {
      "cell_type": "markdown",
      "metadata": {
        "id": "A6nUTSCjWuEA"
      },
      "source": [
        "And, we can once more get the response and reasoning behind the tool calls."
      ]
    },
    {
      "cell_type": "code",
      "execution_count": 8,
      "metadata": {
        "id": "n05LeavyWuEA"
      },
      "outputs": [
        {
          "name": "stdout",
          "output_type": "stream",
          "text": [
            "Thought: The current language of the user is: English. I need to use a tool to help me answer the question.\n",
            "Action: personas\n",
            "Action Input: {\"input\": \"science fiction\"}\n",
            "Called tool:  personas {'input': 'science fiction'} => While the provided information focuses on an astronomy enthusiast or a science journalist, it does not directly address science fiction. However, considering the interest in space and cosmology, it's possible that this individual might also be interested in science fiction, particularly works that explore space exploration, extraterrestrial life, or theoretical physics concepts.\n",
            "Thought: The current language of the user is: English. The provided observation gives me some insights, but it seems more focused on astronomy enthusiasts and science journalists. I need to refine my search to get more specific persona descriptions related to science fiction.\n",
            "Action: personas\n",
            "Action Input: {'input': 'science fiction personas'}\n",
            "Called tool:  personas {'input': 'science fiction personas'} => The persona described is a space science writer or enthusiast with a specialization in planetary exploration. This individual likely has a background in astronomy, physics, or a similar field and is dedicated to simplifying and communicating complex scientific ideas to the public. While not explicitly a science fiction persona, this person's expertise and passion for space exploration could certainly inform and enrich science fiction narratives, particularly those involving planetary missions or space travel.\n",
            "Thought: The current language of the user is: English. The provided observation still does not directly give me a specific science fiction persona. I need to refine my search further to get more specific persona descriptions related to science fiction characters or enthusiasts.\n",
            "Action: personas\n",
            "Action Input: {'input': 'science fiction character personas'}\n",
            "Called tool:  personas {'input': 'science fiction character personas'} => It seems the context provided is about an English literature student analyzing character types in a short story, which doesn't directly relate to science fiction character personas. However, if you're looking to analyze character types in a science fiction context, you might consider personas such as the brave explorer, the cunning alien, the wise mentor, the rebellious hero, and the mysterious scientist. Each of these can add depth and intrigue to a science fiction narrative.\n",
            "Thought: The current language of the user is: English. I now have a more relevant set of personas related to science fiction. I can use these to answer the question.\n",
            "Answer: Here are some science fiction character personas:\n",
            "1. **Brave Explorer**: This character is often the protagonist who embarks on dangerous missions to explore new worlds or uncover ancient secrets. They are courageous, resourceful, and willing to take risks for the greater good.\n",
            "2. **Cunning Alien**: This character is an intelligent being from another planet, often with abilities that surpass human understanding. They are strategic, adaptable, and can be both allies and adversaries.\n",
            "3. **Wise Mentor**: This character provides guidance and wisdom to the protagonist, often sharing knowledge about advanced technologies or ancient civilizations. They are typically older and have a deep understanding of the universe.\n",
            "4. **Rebellious Hero**: This character is driven by a desire to challenge authority and fight against oppression. They are passionate, determined, and often lead a group of rebels against a corrupt regime.\n",
            "5. **Mysterious Scientist**: This character is a brilliant scientist or inventor who creates groundbreaking technologies or discovers hidden truths about the universe. They are often enigmatic and keep their methods and discoveries closely guarded."
          ]
        },
        {
          "data": {
            "text/plain": [
              "AgentOutput(response=ChatMessage(role=<MessageRole.ASSISTANT: 'assistant'>, additional_kwargs={}, blocks=[TextBlock(block_type='text', text='Here are some science fiction character personas:\\n1. **Brave Explorer**: This character is often the protagonist who embarks on dangerous missions to explore new worlds or uncover ancient secrets. They are courageous, resourceful, and willing to take risks for the greater good.\\n2. **Cunning Alien**: This character is an intelligent being from another planet, often with abilities that surpass human understanding. They are strategic, adaptable, and can be both allies and adversaries.\\n3. **Wise Mentor**: This character provides guidance and wisdom to the protagonist, often sharing knowledge about advanced technologies or ancient civilizations. They are typically older and have a deep understanding of the universe.\\n4. **Rebellious Hero**: This character is driven by a desire to challenge authority and fight against oppression. They are passionate, determined, and often lead a group of rebels against a corrupt regime.\\n5. **Mysterious Scientist**: This character is a brilliant scientist or inventor who creates groundbreaking technologies or discovers hidden truths about the universe. They are often enigmatic and keep their methods and discoveries closely guarded.')]), tool_calls=[ToolCallResult(tool_name='personas', tool_kwargs={'input': 'science fiction'}, tool_id='596abdb9-f536-4082-8593-22e9538316be', tool_output=ToolOutput(content=\"While the provided information focuses on an astronomy enthusiast or a science journalist, it does not directly address science fiction. However, considering the interest in space and cosmology, it's possible that this individual might also be interested in science fiction, particularly works that explore space exploration, extraterrestrial life, or theoretical physics concepts.\", tool_name='personas', raw_input={'input': 'science fiction'}, raw_output=Response(response=\"While the provided information focuses on an astronomy enthusiast or a science journalist, it does not directly address science fiction. However, considering the interest in space and cosmology, it's possible that this individual might also be interested in science fiction, particularly works that explore space exploration, extraterrestrial life, or theoretical physics concepts.\", source_nodes=[NodeWithScore(node=TextNode(id_='1068a9de-f67d-4272-a74e-d8a19c46aab8', embedding=None, metadata={'file_path': '/Users/farouq/projects/agents101/llamaindex-demos/data/persona_2708.txt', 'file_name': 'persona_2708.txt', 'file_type': 'text/plain', 'file_size': 125, 'creation_date': '2025-04-06', 'last_modified_date': '2025-04-06'}, excluded_embed_metadata_keys=['file_name', 'file_type', 'file_size', 'creation_date', 'last_modified_date', 'last_accessed_date'], excluded_llm_metadata_keys=['file_name', 'file_type', 'file_size', 'creation_date', 'last_modified_date', 'last_accessed_date'], relationships={<NodeRelationship.SOURCE: '1'>: RelatedNodeInfo(node_id='0a3b4e81-7141-48eb-a7a3-a465d0ee36ed', node_type='4', metadata={'file_path': '/Users/farouq/projects/agents101/llamaindex-demos/data/persona_2708.txt', 'file_name': 'persona_2708.txt', 'file_type': 'text/plain', 'file_size': 125, 'creation_date': '2025-04-06', 'last_modified_date': '2025-04-06'}, hash='ca5962bf2241ae0f78933305d1b100ec27710ef90e17f6e9a534f9d43e9b89c3')}, metadata_template='{key}: {value}', metadata_separator='\\n', text='An astronomy enthusiast likely following recent space discoveries or a science journalist reporting on cosmological research.', mimetype='text/plain', start_char_idx=0, end_char_idx=125, metadata_seperator='\\n', text_template='{metadata_str}\\n\\n{content}'), score=0.5561031892800399), NodeWithScore(node=TextNode(id_='d0e784b4-77d3-4654-bf5c-c571dc7185c8', embedding=None, metadata={'file_path': '/Users/farouq/projects/agents101/llamaindex-demos/data/persona_2708.txt', 'file_name': 'persona_2708.txt', 'file_type': 'text/plain', 'file_size': 125, 'creation_date': '2025-04-06', 'last_modified_date': '2025-04-06'}, excluded_embed_metadata_keys=['file_name', 'file_type', 'file_size', 'creation_date', 'last_modified_date', 'last_accessed_date'], excluded_llm_metadata_keys=['file_name', 'file_type', 'file_size', 'creation_date', 'last_modified_date', 'last_accessed_date'], relationships={<NodeRelationship.SOURCE: '1'>: RelatedNodeInfo(node_id='3ecae2f2-869a-4892-9f47-cd7a496373ab', node_type='4', metadata={'file_path': '/Users/farouq/projects/agents101/llamaindex-demos/data/persona_2708.txt', 'file_name': 'persona_2708.txt', 'file_type': 'text/plain', 'file_size': 125, 'creation_date': '2025-04-06', 'last_modified_date': '2025-04-06'}, hash='ca5962bf2241ae0f78933305d1b100ec27710ef90e17f6e9a534f9d43e9b89c3')}, metadata_template='{key}: {value}', metadata_separator='\\n', text='An astronomy enthusiast likely following recent space discoveries or a science journalist reporting on cosmological research.', mimetype='text/plain', start_char_idx=0, end_char_idx=125, metadata_seperator='\\n', text_template='{metadata_str}\\n\\n{content}'), score=0.5561031892800399)], metadata={'1068a9de-f67d-4272-a74e-d8a19c46aab8': {'file_path': '/Users/farouq/projects/agents101/llamaindex-demos/data/persona_2708.txt', 'file_name': 'persona_2708.txt', 'file_type': 'text/plain', 'file_size': 125, 'creation_date': '2025-04-06', 'last_modified_date': '2025-04-06'}, 'd0e784b4-77d3-4654-bf5c-c571dc7185c8': {'file_path': '/Users/farouq/projects/agents101/llamaindex-demos/data/persona_2708.txt', 'file_name': 'persona_2708.txt', 'file_type': 'text/plain', 'file_size': 125, 'creation_date': '2025-04-06', 'last_modified_date': '2025-04-06'}}), is_error=False), return_direct=False), ToolCallResult(tool_name='personas', tool_kwargs={'input': 'science fiction personas'}, tool_id='1ade2db9-2858-4720-b668-6e648e05a638', tool_output=ToolOutput(content=\"The persona described is a space science writer or enthusiast with a specialization in planetary exploration. This individual likely has a background in astronomy, physics, or a similar field and is dedicated to simplifying and communicating complex scientific ideas to the public. While not explicitly a science fiction persona, this person's expertise and passion for space exploration could certainly inform and enrich science fiction narratives, particularly those involving planetary missions or space travel.\", tool_name='personas', raw_input={'input': 'science fiction personas'}, raw_output=Response(response=\"The persona described is a space science writer or enthusiast with a specialization in planetary exploration. This individual likely has a background in astronomy, physics, or a similar field and is dedicated to simplifying and communicating complex scientific ideas to the public. While not explicitly a science fiction persona, this person's expertise and passion for space exploration could certainly inform and enrich science fiction narratives, particularly those involving planetary missions or space travel.\", source_nodes=[NodeWithScore(node=TextNode(id_='fd0aeb9f-8ae3-4363-9297-a782eb26ca52', embedding=None, metadata={'file_path': '/Users/farouq/projects/agents101/llamaindex-demos/data/persona_4927.txt', 'file_name': 'persona_4927.txt', 'file_type': 'text/plain', 'file_size': 243, 'creation_date': '2025-04-06', 'last_modified_date': '2025-04-06'}, excluded_embed_metadata_keys=['file_name', 'file_type', 'file_size', 'creation_date', 'last_modified_date', 'last_accessed_date'], excluded_llm_metadata_keys=['file_name', 'file_type', 'file_size', 'creation_date', 'last_modified_date', 'last_accessed_date'], relationships={<NodeRelationship.SOURCE: '1'>: RelatedNodeInfo(node_id='803901bd-45b9-4c99-8bb0-5fef33c1a059', node_type='4', metadata={'file_path': '/Users/farouq/projects/agents101/llamaindex-demos/data/persona_4927.txt', 'file_name': 'persona_4927.txt', 'file_type': 'text/plain', 'file_size': 243, 'creation_date': '2025-04-06', 'last_modified_date': '2025-04-06'}, hash='fda40393f7a225f80ee442a7d3769222b1c9e76447234adb9c6d68e1b946d350')}, metadata_template='{key}: {value}', metadata_separator='\\n', text='A space science writer or enthusiast with a focus on planetary exploration, likely holding a degree in astronomy, physics, or a related field, and having a strong interest in making complex scientific concepts accessible to a general audience.', mimetype='text/plain', start_char_idx=0, end_char_idx=243, metadata_seperator='\\n', text_template='{metadata_str}\\n\\n{content}'), score=0.6503298073622529), NodeWithScore(node=TextNode(id_='360f7880-1a56-4b4f-b3cd-cd9bb869c1fc', embedding=None, metadata={'file_path': '/Users/farouq/projects/agents101/llamaindex-demos/data/persona_4927.txt', 'file_name': 'persona_4927.txt', 'file_type': 'text/plain', 'file_size': 243, 'creation_date': '2025-04-06', 'last_modified_date': '2025-04-06'}, excluded_embed_metadata_keys=['file_name', 'file_type', 'file_size', 'creation_date', 'last_modified_date', 'last_accessed_date'], excluded_llm_metadata_keys=['file_name', 'file_type', 'file_size', 'creation_date', 'last_modified_date', 'last_accessed_date'], relationships={<NodeRelationship.SOURCE: '1'>: RelatedNodeInfo(node_id='ab3af027-cf2c-42d7-b5eb-d4eab1763bd4', node_type='4', metadata={'file_path': '/Users/farouq/projects/agents101/llamaindex-demos/data/persona_4927.txt', 'file_name': 'persona_4927.txt', 'file_type': 'text/plain', 'file_size': 243, 'creation_date': '2025-04-06', 'last_modified_date': '2025-04-06'}, hash='fda40393f7a225f80ee442a7d3769222b1c9e76447234adb9c6d68e1b946d350')}, metadata_template='{key}: {value}', metadata_separator='\\n', text='A space science writer or enthusiast with a focus on planetary exploration, likely holding a degree in astronomy, physics, or a related field, and having a strong interest in making complex scientific concepts accessible to a general audience.', mimetype='text/plain', start_char_idx=0, end_char_idx=243, metadata_seperator='\\n', text_template='{metadata_str}\\n\\n{content}'), score=0.6503298073622529)], metadata={'fd0aeb9f-8ae3-4363-9297-a782eb26ca52': {'file_path': '/Users/farouq/projects/agents101/llamaindex-demos/data/persona_4927.txt', 'file_name': 'persona_4927.txt', 'file_type': 'text/plain', 'file_size': 243, 'creation_date': '2025-04-06', 'last_modified_date': '2025-04-06'}, '360f7880-1a56-4b4f-b3cd-cd9bb869c1fc': {'file_path': '/Users/farouq/projects/agents101/llamaindex-demos/data/persona_4927.txt', 'file_name': 'persona_4927.txt', 'file_type': 'text/plain', 'file_size': 243, 'creation_date': '2025-04-06', 'last_modified_date': '2025-04-06'}}), is_error=False), return_direct=False), ToolCallResult(tool_name='personas', tool_kwargs={'input': 'science fiction character personas'}, tool_id='726b6083-5cc8-4902-a494-6ea16dcdbde9', tool_output=ToolOutput(content=\"It seems the context provided is about an English literature student analyzing character types in a short story, which doesn't directly relate to science fiction character personas. However, if you're looking to analyze character types in a science fiction context, you might consider personas such as the brave explorer, the cunning alien, the wise mentor, the rebellious hero, and the mysterious scientist. Each of these can add depth and intrigue to a science fiction narrative.\", tool_name='personas', raw_input={'input': 'science fiction character personas'}, raw_output=Response(response=\"It seems the context provided is about an English literature student analyzing character types in a short story, which doesn't directly relate to science fiction character personas. However, if you're looking to analyze character types in a science fiction context, you might consider personas such as the brave explorer, the cunning alien, the wise mentor, the rebellious hero, and the mysterious scientist. Each of these can add depth and intrigue to a science fiction narrative.\", source_nodes=[NodeWithScore(node=TextNode(id_='9670e3b6-032e-4ad9-ab4b-3baeb935387e', embedding=None, metadata={'file_path': '/Users/farouq/projects/agents101/llamaindex-demos/data/persona_4557.txt', 'file_name': 'persona_4557.txt', 'file_type': 'text/plain', 'file_size': 131, 'creation_date': '2025-04-06', 'last_modified_date': '2025-04-06'}, excluded_embed_metadata_keys=['file_name', 'file_type', 'file_size', 'creation_date', 'last_modified_date', 'last_accessed_date'], excluded_llm_metadata_keys=['file_name', 'file_type', 'file_size', 'creation_date', 'last_modified_date', 'last_accessed_date'], relationships={<NodeRelationship.SOURCE: '1'>: RelatedNodeInfo(node_id='a2f4dac0-76f3-4f6a-8d8b-f37db7703cbe', node_type='4', metadata={'file_path': '/Users/farouq/projects/agents101/llamaindex-demos/data/persona_4557.txt', 'file_name': 'persona_4557.txt', 'file_type': 'text/plain', 'file_size': 131, 'creation_date': '2025-04-06', 'last_modified_date': '2025-04-06'}, hash='d15aef46ae0d3dc21eacb54fbfbd51af86d442fd4c02c203c9a37ce89d9b7223')}, metadata_template='{key}: {value}', metadata_separator='\\n', text='An English literature student, likely in a high school or introductory college setting, analyzing character types in a short story.', mimetype='text/plain', start_char_idx=0, end_char_idx=131, metadata_seperator='\\n', text_template='{metadata_str}\\n\\n{content}'), score=0.622251707596201), NodeWithScore(node=TextNode(id_='3f30b73c-f757-44d6-a793-3bd8bb43f78e', embedding=None, metadata={'file_path': '/Users/farouq/projects/agents101/llamaindex-demos/data/persona_4557.txt', 'file_name': 'persona_4557.txt', 'file_type': 'text/plain', 'file_size': 131, 'creation_date': '2025-04-06', 'last_modified_date': '2025-04-06'}, excluded_embed_metadata_keys=['file_name', 'file_type', 'file_size', 'creation_date', 'last_modified_date', 'last_accessed_date'], excluded_llm_metadata_keys=['file_name', 'file_type', 'file_size', 'creation_date', 'last_modified_date', 'last_accessed_date'], relationships={<NodeRelationship.SOURCE: '1'>: RelatedNodeInfo(node_id='67d277b8-9695-4cc3-875e-a253b84499c8', node_type='4', metadata={'file_path': '/Users/farouq/projects/agents101/llamaindex-demos/data/persona_4557.txt', 'file_name': 'persona_4557.txt', 'file_type': 'text/plain', 'file_size': 131, 'creation_date': '2025-04-06', 'last_modified_date': '2025-04-06'}, hash='d15aef46ae0d3dc21eacb54fbfbd51af86d442fd4c02c203c9a37ce89d9b7223')}, metadata_template='{key}: {value}', metadata_separator='\\n', text='An English literature student, likely in a high school or introductory college setting, analyzing character types in a short story.', mimetype='text/plain', start_char_idx=0, end_char_idx=131, metadata_seperator='\\n', text_template='{metadata_str}\\n\\n{content}'), score=0.622251707596201)], metadata={'9670e3b6-032e-4ad9-ab4b-3baeb935387e': {'file_path': '/Users/farouq/projects/agents101/llamaindex-demos/data/persona_4557.txt', 'file_name': 'persona_4557.txt', 'file_type': 'text/plain', 'file_size': 131, 'creation_date': '2025-04-06', 'last_modified_date': '2025-04-06'}, '3f30b73c-f757-44d6-a793-3bd8bb43f78e': {'file_path': '/Users/farouq/projects/agents101/llamaindex-demos/data/persona_4557.txt', 'file_name': 'persona_4557.txt', 'file_type': 'text/plain', 'file_size': 131, 'creation_date': '2025-04-06', 'last_modified_date': '2025-04-06'}}), is_error=False), return_direct=False)], raw=ChatCompletionStreamOutput(choices=[ChatCompletionStreamOutputChoice(delta=ChatCompletionStreamOutputDelta(role='assistant', content='.', tool_calls=None), index=0, finish_reason=None, logprobs=None)], created=1744250312, id='', model='Qwen/Qwen2.5-Coder-32B-Instruct', system_fingerprint='3.2.1-sha-4d28897', usage=None, object='chat.completion.chunk'), current_agent_name='Agent')"
            ]
          },
          "execution_count": 8,
          "metadata": {},
          "output_type": "execute_result"
        }
      ],
      "source": [
        "handler = query_engine_agent.run(\n",
        "    \"Search the database for 'science fiction' and return some persona descriptions.\"\n",
        ")\n",
        "async for ev in handler.stream_events():\n",
        "    if isinstance(ev, ToolCallResult):\n",
        "        print(\"\")\n",
        "        print(\"Called tool: \", ev.tool_name, ev.tool_kwargs, \"=>\", ev.tool_output)\n",
        "    elif isinstance(ev, AgentStream):  # showing the thought process\n",
        "        print(ev.delta, end=\"\", flush=True)\n",
        "\n",
        "resp = await handler\n",
        "resp"
      ]
    },
    {
      "cell_type": "markdown",
      "metadata": {
        "id": "t5ZoRxBEWuEA"
      },
      "source": [
        "## Creating multi-agent systems\n",
        "\n",
        "We can also create multi-agent systems by passing multiple agents to the `AgentWorkflow` class."
      ]
    },
    {
      "cell_type": "code",
      "execution_count": null,
      "metadata": {
        "id": "s46KkWImWuEA"
      },
      "outputs": [],
      "source": [
        "from llama_index.core.agent.workflow import (\n",
        "    AgentWorkflow,\n",
        "    ReActAgent,\n",
        ")\n",
        "\n",
        "\n",
        "# Define some tools\n",
        "def add(a: int, b: int) -> int:\n",
        "    \"\"\"Add two numbers.\"\"\"\n",
        "    return a + b\n",
        "\n",
        "\n",
        "def subtract(a: int, b: int) -> int:\n",
        "    \"\"\"Subtract two numbers.\"\"\"\n",
        "    return a - b\n",
        "\n",
        "\n",
        "# Create agent configs\n",
        "# NOTE: we can use FunctionAgent or ReActAgent here.\n",
        "# FunctionAgent works for LLMs with a function calling API.\n",
        "# ReActAgent works for any LLM.\n",
        "calculator_agent = ReActAgent(\n",
        "    name=\"calculator\",\n",
        "    description=\"Performs basic arithmetic operations\",\n",
        "    system_prompt=\"You are a calculator assistant. Use your tools for any math operation.\",\n",
        "    tools=[add, subtract],\n",
        "    llm=llm,\n",
        ")\n",
        "\n",
        "query_agent = ReActAgent(\n",
        "    name=\"info_lookup\",\n",
        "    description=\"Looks up information about XYZ\",\n",
        "    system_prompt=\"Use your tool to query a RAG system to answer information about XYZ\",\n",
        "    tools=[query_engine_tool],\n",
        "    llm=llm,\n",
        ")\n",
        "\n",
        "# Create and run the workflow\n",
        "agent = AgentWorkflow(agents=[calculator_agent, query_agent], root_agent=\"calculator\")\n",
        "\n",
        "\n",
        "# Run the system\n",
        "handler = agent.run(user_msg=\"Can you add 5 and 3?\")"
      ]
    },
    {
      "cell_type": "code",
      "execution_count": 11,
      "metadata": {
        "id": "0cMmTutQWuEA"
      },
      "outputs": [
        {
          "name": "stdout",
          "output_type": "stream",
          "text": [
            "Thought: The current language of the user is: English. I need to use a tool to help me answer the question.\n",
            "Action: add\n",
            "Action Input: {\"a\": 5, \"b\": 3}\n",
            "Called tool:  add {'a': 5, 'b': 3} => 8\n",
            "Thought: I can answer without using any more tools. I'll use the user's language to answer\n",
            "Answer: 8"
          ]
        },
        {
          "data": {
            "text/plain": [
              "AgentOutput(response=ChatMessage(role=<MessageRole.ASSISTANT: 'assistant'>, additional_kwargs={}, blocks=[TextBlock(block_type='text', text='8')]), tool_calls=[ToolCallResult(tool_name='add', tool_kwargs={'a': 5, 'b': 3}, tool_id='6a1d203a-d845-46bf-95a3-6c546ce98b0f', tool_output=ToolOutput(content='8', tool_name='add', raw_input={'args': (), 'kwargs': {'a': 5, 'b': 3}}, raw_output=8, is_error=False), return_direct=False)], raw=ChatCompletionStreamOutput(choices=[ChatCompletionStreamOutputChoice(delta=ChatCompletionStreamOutputDelta(role='assistant', content='8', tool_calls=None), index=0, finish_reason=None, logprobs=None)], created=1744250324, id='', model='Qwen/Qwen2.5-Coder-32B-Instruct', system_fingerprint='3.2.1-sha-4d28897', usage=None, object='chat.completion.chunk'), current_agent_name='calculator')"
            ]
          },
          "execution_count": 11,
          "metadata": {},
          "output_type": "execute_result"
        }
      ],
      "source": [
        "async for ev in handler.stream_events():\n",
        "    if isinstance(ev, ToolCallResult):\n",
        "        print(\"\")\n",
        "        print(\"Called tool: \", ev.tool_name, ev.tool_kwargs, \"=>\", ev.tool_output)\n",
        "    elif isinstance(ev, AgentStream):  # showing the thought process\n",
        "        print(ev.delta, end=\"\", flush=True)\n",
        "\n",
        "resp = await handler\n",
        "resp"
      ]
    }
  ],
  "metadata": {
    "colab": {
      "provenance": []
    },
    "kernelspec": {
      "display_name": "cv-utu",
      "language": "python",
      "name": "python3"
    },
    "language_info": {
      "codemirror_mode": {
        "name": "ipython",
        "version": 3
      },
      "file_extension": ".py",
      "mimetype": "text/x-python",
      "name": "python",
      "nbconvert_exporter": "python",
      "pygments_lexer": "ipython3",
      "version": "3.10.13"
    }
  },
  "nbformat": 4,
  "nbformat_minor": 0
}
